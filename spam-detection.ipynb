{
 "cells": [
  {
   "cell_type": "markdown",
   "id": "1d00d20e",
   "metadata": {},
   "source": [
    "# Spam Email Detection — Naive Bayes (Machine Learning)"
   ]
  }
 ],
 "metadata": {
  "language_info": {
   "name": "python"
  }
 },
 "nbformat": 4,
 "nbformat_minor": 5
}
