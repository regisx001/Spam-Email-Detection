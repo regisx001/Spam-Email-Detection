{
 "cells": [
  {
   "cell_type": "markdown",
   "id": "1d00d20e",
   "metadata": {},
   "source": [
    "# **Spam Email Detection — Naive Bayes (Machine Learning)**\n",
    "\n",
    "This notebook contains a simple, reproducible implementation of an email spam detection pipeline using the Naive Bayes classifier. The project uses the \"Spam Email Classification\" dataset from Kaggle and demonstrates data loading, preprocessing, model training, evaluation, and basic model export."
   ]
  },
  {
   "cell_type": "markdown",
   "id": "7f2e1fba",
   "metadata": {},
   "source": [
    "## **Step 00** : Install nessessary packages"
   ]
  },
  {
   "cell_type": "code",
   "execution_count": 107,
   "id": "f4541d44",
   "metadata": {},
   "outputs": [
    {
     "name": "stdout",
     "output_type": "stream",
     "text": [
      "Requirement already satisfied: numpy in ./venv/lib/python3.10/site-packages (2.2.6)\n",
      "Requirement already satisfied: pandas in ./venv/lib/python3.10/site-packages (2.3.3)\n",
      "Requirement already satisfied: nltk in ./venv/lib/python3.10/site-packages (3.9.2)\n",
      "Requirement already satisfied: tzdata>=2022.7 in ./venv/lib/python3.10/site-packages (from pandas) (2025.2)\n",
      "Requirement already satisfied: python-dateutil>=2.8.2 in ./venv/lib/python3.10/site-packages (from pandas) (2.9.0.post0)\n",
      "Requirement already satisfied: pytz>=2020.1 in ./venv/lib/python3.10/site-packages (from pandas) (2025.2)\n",
      "Requirement already satisfied: tqdm in ./venv/lib/python3.10/site-packages (from nltk) (4.67.1)\n",
      "Requirement already satisfied: click in ./venv/lib/python3.10/site-packages (from nltk) (8.3.0)\n",
      "Requirement already satisfied: joblib in ./venv/lib/python3.10/site-packages (from nltk) (1.5.2)\n",
      "Requirement already satisfied: regex>=2021.8.3 in ./venv/lib/python3.10/site-packages (from nltk) (2025.9.18)\n",
      "Requirement already satisfied: six>=1.5 in ./venv/lib/python3.10/site-packages (from python-dateutil>=2.8.2->pandas) (1.17.0)\n"
     ]
    }
   ],
   "source": [
    "! pip install numpy pandas nltk"
   ]
  },
  {
   "cell_type": "markdown",
   "id": "dd72b997",
   "metadata": {},
   "source": [
    "## **Step 01** : Data loading and Processing"
   ]
  },
  {
   "cell_type": "code",
   "execution_count": 108,
   "id": "a50ef320",
   "metadata": {},
   "outputs": [
    {
     "name": "stdout",
     "output_type": "stream",
     "text": [
      "<class 'pandas.core.frame.DataFrame'>\n",
      "RangeIndex: 5572 entries, 0 to 5571\n",
      "Data columns (total 2 columns):\n",
      " #   Column    Non-Null Count  Dtype \n",
      "---  ------    --------------  ----- \n",
      " 0   Category  5572 non-null   object\n",
      " 1   Message   5572 non-null   object\n",
      "dtypes: object(2)\n",
      "memory usage: 87.2+ KB\n"
     ]
    },
    {
     "name": "stderr",
     "output_type": "stream",
     "text": [
      "[nltk_data] Downloading package stopwords to\n",
      "[nltk_data]     /home/ezzoubair/nltk_data...\n",
      "[nltk_data]   Package stopwords is already up-to-date!\n"
     ]
    }
   ],
   "source": [
    "\n",
    "import numpy as np\n",
    "import pandas as pd\n",
    "import re\n",
    "import nltk\n",
    "from nltk.corpus import stopwords\n",
    "\n",
    "nltk.download(\"stopwords\")\n",
    "\n",
    "stop_words = set(stopwords.words(\"english\"))\n",
    "\n",
    "# Load Data from CSV file\n",
    "df = pd.read_csv(\"data/email.csv\")\n",
    "\n",
    "# Get Some info about the dataset\n",
    "df.info()"
   ]
  },
  {
   "cell_type": "code",
   "execution_count": 109,
   "id": "ef38a5de",
   "metadata": {},
   "outputs": [
    {
     "name": "stdout",
     "output_type": "stream",
     "text": [
      "  Category                                            Message\n",
      "0      ham  Go until jurong point, crazy.. Available only ...\n",
      "1      ham                      Ok lar... Joking wif u oni...\n",
      "2     spam  Free entry in 2 a wkly comp to win FA Cup fina...\n",
      "3      ham  U dun say so early hor... U c already then say...\n",
      "4      ham  Nah I don't think he goes to usf, he lives aro...\n",
      "     Category                                            Message\n",
      "5567     spam  This is the 2nd time we have tried 2 contact u...\n",
      "5568      ham               Will ü b going to esplanade fr home?\n",
      "5569      ham  Pity, * was in mood for that. So...any other s...\n",
      "5570      ham  The guy did some bitching but I acted like i'd...\n",
      "5571      ham                         Rofl. Its true to its name\n"
     ]
    }
   ],
   "source": [
    "# print the first and last 5 values to ch\n",
    "print(df.head(5))\n",
    "print(df.tail(5))"
   ]
  },
  {
   "cell_type": "code",
   "execution_count": 110,
   "id": "cf8917b7",
   "metadata": {},
   "outputs": [
    {
     "name": "stdout",
     "output_type": "stream",
     "text": [
      "  Category                                            Message\n",
      "0        0  Go until jurong point, crazy.. Available only ...\n",
      "1        0                      Ok lar... Joking wif u oni...\n",
      "2        1  Free entry in 2 a wkly comp to win FA Cup fina...\n",
      "3        0  U dun say so early hor... U c already then say...\n",
      "4        0  Nah I don't think he goes to usf, he lives aro...\n",
      "     Category                                            Message\n",
      "5567        1  This is the 2nd time we have tried 2 contact u...\n",
      "5568        0               Will ü b going to esplanade fr home?\n",
      "5569        0  Pity, * was in mood for that. So...any other s...\n",
      "5570        0  The guy did some bitching but I acted like i'd...\n",
      "5571        0                         Rofl. Its true to its name\n"
     ]
    }
   ],
   "source": [
    "# Change the category to a binary values (0 or 1) based on the message is spam (1) or not spam (0)\n",
    "df.loc[df[\"Category\"] == \"ham\",\"Category\"] = 0\n",
    "df.loc[df[\"Category\"] == \"spam\",\"Category\"] = 1\n",
    "\n",
    "\n",
    "# print the first and last 5 values to ch\n",
    "print(df.head(5))\n",
    "print(df.tail(5))"
   ]
  },
  {
   "cell_type": "code",
   "execution_count": null,
   "id": "1ce14578",
   "metadata": {},
   "outputs": [
    {
     "data": {
      "text/html": [
       "<div>\n",
       "<style scoped>\n",
       "    .dataframe tbody tr th:only-of-type {\n",
       "        vertical-align: middle;\n",
       "    }\n",
       "\n",
       "    .dataframe tbody tr th {\n",
       "        vertical-align: top;\n",
       "    }\n",
       "\n",
       "    .dataframe thead th {\n",
       "        text-align: right;\n",
       "    }\n",
       "</style>\n",
       "<table border=\"1\" class=\"dataframe\">\n",
       "  <thead>\n",
       "    <tr style=\"text-align: right;\">\n",
       "      <th></th>\n",
       "      <th>Category</th>\n",
       "      <th>Message</th>\n",
       "    </tr>\n",
       "  </thead>\n",
       "  <tbody>\n",
       "    <tr>\n",
       "      <th>0</th>\n",
       "      <td>0</td>\n",
       "      <td>[jurong, point, crazy, available, bugis, great...</td>\n",
       "    </tr>\n",
       "    <tr>\n",
       "      <th>1</th>\n",
       "      <td>0</td>\n",
       "      <td>[joking]</td>\n",
       "    </tr>\n",
       "    <tr>\n",
       "      <th>2</th>\n",
       "      <td>1</td>\n",
       "      <td>[free, entry, wkly, comp, final, tkts, 21st, 2...</td>\n",
       "    </tr>\n",
       "    <tr>\n",
       "      <th>3</th>\n",
       "      <td>0</td>\n",
       "      <td>[early, already]</td>\n",
       "    </tr>\n",
       "    <tr>\n",
       "      <th>4</th>\n",
       "      <td>0</td>\n",
       "      <td>[dont, think, goes, lives, around, though]</td>\n",
       "    </tr>\n",
       "  </tbody>\n",
       "</table>\n",
       "</div>"
      ],
      "text/plain": [
       "  Category                                            Message\n",
       "0        0  [jurong, point, crazy, available, bugis, great...\n",
       "1        0                                           [joking]\n",
       "2        1  [free, entry, wkly, comp, final, tkts, 21st, 2...\n",
       "3        0                                   [early, already]\n",
       "4        0         [dont, think, goes, lives, around, though]"
      ]
     },
     "execution_count": 111,
     "metadata": {},
     "output_type": "execute_result"
    }
   ],
   "source": [
    "# Data Cleaning and processing Function\n",
    "def clean_text(text):\n",
    "    text = text.lower()\n",
    "    # Remove punctuation using regEx\n",
    "    text = re.sub(r\"[^\\w\\s]\", \"\", text)\n",
    "    words = text.split()\n",
    "    # Remove stopwords and short words (optional: words <= 2 chars)\n",
    "    words = [w for w in words if w not in stop_words and len(w) > 3]\n",
    "    return words\n",
    "\n",
    "df[\"Message\"] = df[\"Message\"].apply(clean_text)\n"
   ]
  },
  {
   "cell_type": "markdown",
   "id": "39255efd",
   "metadata": {},
   "source": [
    "**And that it for the data manipulation we need for now !!**"
   ]
  }
 ],
 "metadata": {
  "kernelspec": {
   "display_name": "venv",
   "language": "python",
   "name": "python3"
  },
  "language_info": {
   "codemirror_mode": {
    "name": "ipython",
    "version": 3
   },
   "file_extension": ".py",
   "mimetype": "text/x-python",
   "name": "python",
   "nbconvert_exporter": "python",
   "pygments_lexer": "ipython3",
   "version": "3.10.12"
  }
 },
 "nbformat": 4,
 "nbformat_minor": 5
}
