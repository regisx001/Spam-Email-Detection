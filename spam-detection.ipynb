{
 "cells": [
  {
   "cell_type": "markdown",
   "id": "1d00d20e",
   "metadata": {},
   "source": [
    "# **Spam Email Detection — Naive Bayes (Machine Learning)**\n",
    "\n",
    "This notebook contains a simple, reproducible implementation of an email spam detection pipeline using the Naive Bayes classifier. The project uses the \"Spam Email Classification\" dataset from Kaggle and demonstrates data loading, preprocessing, model training, evaluation, and basic model export."
   ]
  },
  {
   "cell_type": "markdown",
   "id": "7f2e1fba",
   "metadata": {},
   "source": [
    "## **Step 00** : Install nessessary packages"
   ]
  },
  {
   "cell_type": "code",
   "execution_count": 13,
   "id": "f4541d44",
   "metadata": {},
   "outputs": [
    {
     "name": "stdout",
     "output_type": "stream",
     "text": [
      "Requirement already satisfied: numpy in ./venv/lib/python3.10/site-packages (2.2.6)\n",
      "Requirement already satisfied: pandas in ./venv/lib/python3.10/site-packages (2.3.3)\n",
      "Requirement already satisfied: tzdata>=2022.7 in ./venv/lib/python3.10/site-packages (from pandas) (2025.2)\n",
      "Requirement already satisfied: python-dateutil>=2.8.2 in ./venv/lib/python3.10/site-packages (from pandas) (2.9.0.post0)\n",
      "Requirement already satisfied: pytz>=2020.1 in ./venv/lib/python3.10/site-packages (from pandas) (2025.2)\n",
      "Requirement already satisfied: six>=1.5 in ./venv/lib/python3.10/site-packages (from python-dateutil>=2.8.2->pandas) (1.17.0)\n"
     ]
    }
   ],
   "source": [
    "! pip install numpy pandas"
   ]
  },
  {
   "cell_type": "markdown",
   "id": "dd72b997",
   "metadata": {},
   "source": [
    "## **Step 01** : Data loading and cleaning"
   ]
  },
  {
   "cell_type": "code",
   "execution_count": 14,
   "id": "a50ef320",
   "metadata": {},
   "outputs": [
    {
     "name": "stdout",
     "output_type": "stream",
     "text": [
      "<class 'pandas.core.frame.DataFrame'>\n",
      "RangeIndex: 5572 entries, 0 to 5571\n",
      "Data columns (total 2 columns):\n",
      " #   Column    Non-Null Count  Dtype \n",
      "---  ------    --------------  ----- \n",
      " 0   Category  5572 non-null   object\n",
      " 1   Message   5572 non-null   object\n",
      "dtypes: object(2)\n",
      "memory usage: 87.2+ KB\n"
     ]
    }
   ],
   "source": [
    "import numpy as np\n",
    "import pandas as pd\n",
    "\n",
    "# Load Data from CSV file\n",
    "df = pd.read_csv(\"data/email.csv\")\n",
    "\n",
    "# Get Some info about the dataset\n",
    "df.info()"
   ]
  },
  {
   "cell_type": "code",
   "execution_count": 15,
   "id": "ef38a5de",
   "metadata": {},
   "outputs": [
    {
     "name": "stdout",
     "output_type": "stream",
     "text": [
      "  Category                                            Message\n",
      "0      ham  Go until jurong point, crazy.. Available only ...\n",
      "1      ham                      Ok lar... Joking wif u oni...\n",
      "2     spam  Free entry in 2 a wkly comp to win FA Cup fina...\n",
      "3      ham  U dun say so early hor... U c already then say...\n",
      "4      ham  Nah I don't think he goes to usf, he lives aro...\n",
      "     Category                                            Message\n",
      "5567     spam  This is the 2nd time we have tried 2 contact u...\n",
      "5568      ham               Will ü b going to esplanade fr home?\n",
      "5569      ham  Pity, * was in mood for that. So...any other s...\n",
      "5570      ham  The guy did some bitching but I acted like i'd...\n",
      "5571      ham                         Rofl. Its true to its name\n"
     ]
    }
   ],
   "source": [
    "# print the first and last 5 values to ch\n",
    "print(df.head(5))\n",
    "print(df.tail(5))"
   ]
  },
  {
   "cell_type": "code",
   "execution_count": 16,
   "id": "cf8917b7",
   "metadata": {},
   "outputs": [
    {
     "name": "stdout",
     "output_type": "stream",
     "text": [
      "  Category Message\n",
      "0        0       0\n",
      "1        0       0\n",
      "2        1       1\n",
      "3        0       0\n",
      "4        0       0\n",
      "     Category Message\n",
      "5567        1       1\n",
      "5568        0       0\n",
      "5569        0       0\n",
      "5570        0       0\n",
      "5571        0       0\n"
     ]
    }
   ],
   "source": [
    "# Change the category to a binary values (0 or 1) based on the message is spam (1) or not spam (0)\n",
    "df.loc[df[\"Category\"] == \"ham\"] = 0\n",
    "df.loc[df[\"Category\"] == \"spam\"] = 1\n",
    "\n",
    "\n",
    "# print the first and last 5 values to ch\n",
    "print(df.head(5))\n",
    "print(df.tail(5))"
   ]
  },
  {
   "cell_type": "markdown",
   "id": "39255efd",
   "metadata": {},
   "source": [
    "**And that it for the data manipulation we need for now !!**"
   ]
  }
 ],
 "metadata": {
  "kernelspec": {
   "display_name": "venv",
   "language": "python",
   "name": "python3"
  },
  "language_info": {
   "codemirror_mode": {
    "name": "ipython",
    "version": 3
   },
   "file_extension": ".py",
   "mimetype": "text/x-python",
   "name": "python",
   "nbconvert_exporter": "python",
   "pygments_lexer": "ipython3",
   "version": "3.10.12"
  }
 },
 "nbformat": 4,
 "nbformat_minor": 5
}
